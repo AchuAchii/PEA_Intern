{
  "cells": [
    {
      "cell_type": "code",
      "execution_count": null,
      "metadata": {
        "colab": {
          "base_uri": "https://localhost:8080/",
          "height": 69
        },
        "id": "4CEdbTtJf5Sy",
        "outputId": "3e5060a9-0fb6-4808-de95-82187d20f5ed"
      },
      "outputs": [
        {
          "data": {
            "text/html": [
              "\n",
              "     <input type=\"file\" id=\"files-81d790d3-8422-43ce-ba25-f8c90960322e\" name=\"files[]\" multiple disabled\n",
              "        style=\"border:none\" />\n",
              "     <output id=\"result-81d790d3-8422-43ce-ba25-f8c90960322e\">\n",
              "      Upload widget is only available when the cell has been executed in the\n",
              "      current browser session. Please rerun this cell to enable.\n",
              "      </output>\n",
              "      <script>// Copyright 2017 Google LLC\n",
              "//\n",
              "// Licensed under the Apache License, Version 2.0 (the \"License\");\n",
              "// you may not use this file except in compliance with the License.\n",
              "// You may obtain a copy of the License at\n",
              "//\n",
              "//      http://www.apache.org/licenses/LICENSE-2.0\n",
              "//\n",
              "// Unless required by applicable law or agreed to in writing, software\n",
              "// distributed under the License is distributed on an \"AS IS\" BASIS,\n",
              "// WITHOUT WARRANTIES OR CONDITIONS OF ANY KIND, either express or implied.\n",
              "// See the License for the specific language governing permissions and\n",
              "// limitations under the License.\n",
              "\n",
              "/**\n",
              " * @fileoverview Helpers for google.colab Python module.\n",
              " */\n",
              "(function(scope) {\n",
              "function span(text, styleAttributes = {}) {\n",
              "  const element = document.createElement('span');\n",
              "  element.textContent = text;\n",
              "  for (const key of Object.keys(styleAttributes)) {\n",
              "    element.style[key] = styleAttributes[key];\n",
              "  }\n",
              "  return element;\n",
              "}\n",
              "\n",
              "// Max number of bytes which will be uploaded at a time.\n",
              "const MAX_PAYLOAD_SIZE = 100 * 1024;\n",
              "\n",
              "function _uploadFiles(inputId, outputId) {\n",
              "  const steps = uploadFilesStep(inputId, outputId);\n",
              "  const outputElement = document.getElementById(outputId);\n",
              "  // Cache steps on the outputElement to make it available for the next call\n",
              "  // to uploadFilesContinue from Python.\n",
              "  outputElement.steps = steps;\n",
              "\n",
              "  return _uploadFilesContinue(outputId);\n",
              "}\n",
              "\n",
              "// This is roughly an async generator (not supported in the browser yet),\n",
              "// where there are multiple asynchronous steps and the Python side is going\n",
              "// to poll for completion of each step.\n",
              "// This uses a Promise to block the python side on completion of each step,\n",
              "// then passes the result of the previous step as the input to the next step.\n",
              "function _uploadFilesContinue(outputId) {\n",
              "  const outputElement = document.getElementById(outputId);\n",
              "  const steps = outputElement.steps;\n",
              "\n",
              "  const next = steps.next(outputElement.lastPromiseValue);\n",
              "  return Promise.resolve(next.value.promise).then((value) => {\n",
              "    // Cache the last promise value to make it available to the next\n",
              "    // step of the generator.\n",
              "    outputElement.lastPromiseValue = value;\n",
              "    return next.value.response;\n",
              "  });\n",
              "}\n",
              "\n",
              "/**\n",
              " * Generator function which is called between each async step of the upload\n",
              " * process.\n",
              " * @param {string} inputId Element ID of the input file picker element.\n",
              " * @param {string} outputId Element ID of the output display.\n",
              " * @return {!Iterable<!Object>} Iterable of next steps.\n",
              " */\n",
              "function* uploadFilesStep(inputId, outputId) {\n",
              "  const inputElement = document.getElementById(inputId);\n",
              "  inputElement.disabled = false;\n",
              "\n",
              "  const outputElement = document.getElementById(outputId);\n",
              "  outputElement.innerHTML = '';\n",
              "\n",
              "  const pickedPromise = new Promise((resolve) => {\n",
              "    inputElement.addEventListener('change', (e) => {\n",
              "      resolve(e.target.files);\n",
              "    });\n",
              "  });\n",
              "\n",
              "  const cancel = document.createElement('button');\n",
              "  inputElement.parentElement.appendChild(cancel);\n",
              "  cancel.textContent = 'Cancel upload';\n",
              "  const cancelPromise = new Promise((resolve) => {\n",
              "    cancel.onclick = () => {\n",
              "      resolve(null);\n",
              "    };\n",
              "  });\n",
              "\n",
              "  // Wait for the user to pick the files.\n",
              "  const files = yield {\n",
              "    promise: Promise.race([pickedPromise, cancelPromise]),\n",
              "    response: {\n",
              "      action: 'starting',\n",
              "    }\n",
              "  };\n",
              "\n",
              "  cancel.remove();\n",
              "\n",
              "  // Disable the input element since further picks are not allowed.\n",
              "  inputElement.disabled = true;\n",
              "\n",
              "  if (!files) {\n",
              "    return {\n",
              "      response: {\n",
              "        action: 'complete',\n",
              "      }\n",
              "    };\n",
              "  }\n",
              "\n",
              "  for (const file of files) {\n",
              "    const li = document.createElement('li');\n",
              "    li.append(span(file.name, {fontWeight: 'bold'}));\n",
              "    li.append(span(\n",
              "        `(${file.type || 'n/a'}) - ${file.size} bytes, ` +\n",
              "        `last modified: ${\n",
              "            file.lastModifiedDate ? file.lastModifiedDate.toLocaleDateString() :\n",
              "                                    'n/a'} - `));\n",
              "    const percent = span('0% done');\n",
              "    li.appendChild(percent);\n",
              "\n",
              "    outputElement.appendChild(li);\n",
              "\n",
              "    const fileDataPromise = new Promise((resolve) => {\n",
              "      const reader = new FileReader();\n",
              "      reader.onload = (e) => {\n",
              "        resolve(e.target.result);\n",
              "      };\n",
              "      reader.readAsArrayBuffer(file);\n",
              "    });\n",
              "    // Wait for the data to be ready.\n",
              "    let fileData = yield {\n",
              "      promise: fileDataPromise,\n",
              "      response: {\n",
              "        action: 'continue',\n",
              "      }\n",
              "    };\n",
              "\n",
              "    // Use a chunked sending to avoid message size limits. See b/62115660.\n",
              "    let position = 0;\n",
              "    do {\n",
              "      const length = Math.min(fileData.byteLength - position, MAX_PAYLOAD_SIZE);\n",
              "      const chunk = new Uint8Array(fileData, position, length);\n",
              "      position += length;\n",
              "\n",
              "      const base64 = btoa(String.fromCharCode.apply(null, chunk));\n",
              "      yield {\n",
              "        response: {\n",
              "          action: 'append',\n",
              "          file: file.name,\n",
              "          data: base64,\n",
              "        },\n",
              "      };\n",
              "\n",
              "      let percentDone = fileData.byteLength === 0 ?\n",
              "          100 :\n",
              "          Math.round((position / fileData.byteLength) * 100);\n",
              "      percent.textContent = `${percentDone}% done`;\n",
              "\n",
              "    } while (position < fileData.byteLength);\n",
              "  }\n",
              "\n",
              "  // All done.\n",
              "  yield {\n",
              "    response: {\n",
              "      action: 'complete',\n",
              "    }\n",
              "  };\n",
              "}\n",
              "\n",
              "scope.google = scope.google || {};\n",
              "scope.google.colab = scope.google.colab || {};\n",
              "scope.google.colab._files = {\n",
              "  _uploadFiles,\n",
              "  _uploadFilesContinue,\n",
              "};\n",
              "})(self);\n",
              "</script> "
            ],
            "text/plain": [
              "<IPython.core.display.HTML object>"
            ]
          },
          "metadata": {},
          "output_type": "display_data"
        },
        {
          "name": "stdout",
          "output_type": "stream",
          "text": [
            "Saving phase1.csv to phase1.csv\n"
          ]
        }
      ],
      "source": [
        "import pandas as pd\n",
        "from google.colab import files\n",
        "\n",
        "uploaded = files.upload()"
      ]
    },
    {
      "cell_type": "code",
      "execution_count": 10,
      "metadata": {
        "colab": {
          "base_uri": "https://localhost:8080/"
        },
        "id": "y8xXbxFswMsD",
        "outputId": "a25d1dba-3ae9-4cc4-bea4-b4304a191d23"
      },
      "outputs": [
        {
          "name": "stdout",
          "output_type": "stream",
          "text": [
            "['ชีวมวล' 'ชีวภาพ' 'พลังงานแสงอาทิตย์' 'ขยะ']\n"
          ]
        }
      ],
      "source": [
        "df = pd.read_csv(\"FIT VSPP 2565-2567.csv\")\n",
        "fuel_types = df['เชื้อเพลิง'].dropna().unique()\n",
        "print(fuel_types)"
      ]
    },
    {
      "cell_type": "code",
      "execution_count": 5,
      "metadata": {},
      "outputs": [
        {
          "name": "stdout",
          "output_type": "stream",
          "text": [
            "      id    เขต เชื้อเพลิง  mwตามสัญญา  mwติดตั้ง  year  month  \\\n",
            "3719  24  กฟฉ.2     ชีวมวล         7.5        9.9  2565      1   \n",
            "3736  24  กฟฉ.2     ชีวมวล         7.5        9.9  2566      5   \n",
            "3735  24  กฟฉ.2     ชีวมวล         7.5        9.9  2565      5   \n",
            "3734  24  กฟฉ.2     ชีวมวล         7.5        9.9  2568      4   \n",
            "3733  24  กฟฉ.2     ชีวมวล         7.5        9.9  2567      4   \n",
            "\n",
            "                  kwhp             kwhop               kWH  \n",
            "3719   \\t1,919,030.00    \\t3,397,596.00    \\t5,316,626.00   \n",
            "3736   \\t1,996,333.00    \\t3,492,659.00    \\t5,488,992.00   \n",
            "3735   \\t1,989,695.00    \\t3,355,262.00    \\t5,344,957.00   \n",
            "3734   \\t1,698,339.00    \\t3,100,989.00    \\t4,799,328.00   \n",
            "3733   \\t1,905,777.00    \\t3,223,713.00    \\t5,129,490.00   \n"
          ]
        }
      ],
      "source": [
        "import pandas as pd\n",
        "df = pd.read_csv(\"FIT VSPP 2565-2567.csv\")\n",
        "df_sorted = df.sort_values(by='id')\n",
        "df = df[df['year'] != 2568]\n",
        "df = df.drop(columns=['kwhp', 'kwhop','year','เขต'])\n",
        "print(df_sorted.head())"
      ]
    },
    {
      "cell_type": "code",
      "execution_count": null,
      "metadata": {
        "colab": {
          "base_uri": "https://localhost:8080/"
        },
        "id": "il8oK6-Ek5Hg",
        "outputId": "35376aba-3c68-469b-8214-261789c1a681"
      },
      "outputs": [
        {
          "name": "stdout",
          "output_type": "stream",
          "text": [
            "      id    เขต เชื้อเพลิง  mwตามสัญญา  mwติดตั้ง  year  month  \\\n",
            "3722  24  กฟฉ.2     ชีวมวล         7.5        9.9  2568      1   \n",
            "3723  24  กฟฉ.2     ชีวมวล         7.5        9.9  2565      2   \n",
            "3738  24  กฟฉ.2     ชีวมวล         7.5        9.9  2568      5   \n",
            "3737  24  กฟฉ.2     ชีวมวล         7.5        9.9  2567      5   \n",
            "3740  24  กฟฉ.2     ชีวมวล         7.5        9.9  2566      6   \n",
            "\n",
            "                  kwhp             kwhop               kWH  \n",
            "3722   \\t1,999,919.00    \\t3,177,429.00    \\t5,177,348.00   \n",
            "3723   \\t1,788,718.00    \\t3,118,846.00    \\t4,907,564.00   \n",
            "3738   \\t1,973,069.00    \\t3,325,298.00    \\t5,298,367.00   \n",
            "3737   \\t1,929,538.00    \\t3,320,202.00    \\t5,249,740.00   \n",
            "3740   \\t2,094,797.00    \\t2,961,607.00    \\t5,056,404.00   \n"
          ]
        }
      ],
      "source": [
        "file_name = list(uploaded.keys())[0]\n",
        "df = pd.read_csv(file_name)\n",
        "df_sorted = df.sort_values(by='id')\n",
        "df = df[df['year'] != 2568]\n",
        "df = df.drop(columns=['kwhp', 'kwhop','year','เขต'])\n",
        "print(df_sorted.head())"
      ]
    },
    {
      "cell_type": "code",
      "execution_count": 6,
      "metadata": {
        "colab": {
          "base_uri": "https://localhost:8080/"
        },
        "id": "E5nJUKHCu5_h",
        "outputId": "1bdba5db-defb-496b-af92-4c53dcfd505c"
      },
      "outputs": [
        {
          "name": "stdout",
          "output_type": "stream",
          "text": [
            "   id เชื้อเพลิง  mwตามสัญญา  mwติดตั้ง  month     AVG_kWH  missing_rate_kWH\n",
            "0  24     ชีวมวล         7.5        9.9      1  5371329.67               0.0\n",
            "1  24     ชีวมวล         7.5        9.9      2  4880695.67               0.0\n",
            "2  24     ชีวมวล         7.5        9.9      3  5345938.00               0.0\n",
            "3  24     ชีวมวล         7.5        9.9      4  5026477.33               0.0\n",
            "4  24     ชีวมวล         7.5        9.9      5  5361229.67               0.0\n"
          ]
        },
        {
          "name": "stderr",
          "output_type": "stream",
          "text": [
            "/var/folders/r9/8xt0jbx52z129ygv1trvfj200000gn/T/ipykernel_15229/3445140248.py:11: DeprecationWarning: DataFrameGroupBy.apply operated on the grouping columns. This behavior is deprecated, and in a future version of pandas the grouping columns will be excluded from the operation. Either pass `include_groups=False` to exclude the groupings or explicitly select the grouping columns after groupby to silence this warning.\n",
            "  aggregated_df = df.groupby(['id', 'month'], as_index=False).apply(lambda g: g.iloc[0]).reset_index(drop=True)\n"
          ]
        }
      ],
      "source": [
        "import numpy as np\n",
        "import pandas as pd\n",
        "\n",
        "df['kWH'] = df['kWH'].astype(str).str.replace(',', '').str.strip()\n",
        "df['kWH'] = df['kWH'].replace(['-', '', ' ', 'nan', '<NA>'], np.nan)\n",
        "df['kWH'] = df['kWH'].astype(float).fillna(0)\n",
        "df['AVG_kWH'] = df.groupby(['id', 'month'])['kWH'].transform('mean')\n",
        "df['kWH_zero'] = (df['kWH'] == 0).astype(int)\n",
        "missing_rate_df = df.groupby('id')['kWH_zero'].mean().reset_index(name='missing_rate_kWH')\n",
        "missing_rate_df['missing_rate_kWH'] = (missing_rate_df['missing_rate_kWH'] * 100).round(2)\n",
        "aggregated_df = df.groupby(['id', 'month'], as_index=False).apply(lambda g: g.iloc[0]).reset_index(drop=True)\n",
        "aggregated_df = aggregated_df.fillna(0)\n",
        "aggregated_df['AVG_kWH'] = aggregated_df['AVG_kWH'].round(2)\n",
        "aggregated_df = aggregated_df.merge(missing_rate_df, on='id', how='left')\n",
        "print(aggregated_df.drop(columns=['kWH', 'kWH_zero']).head())"
      ]
    },
    {
      "cell_type": "code",
      "execution_count": 7,
      "metadata": {
        "colab": {
          "base_uri": "https://localhost:8080/"
        },
        "id": "sl7fwgz2JJAX",
        "outputId": "f68212d3-2694-4ccb-ddb6-e6d20bc1eb86"
      },
      "outputs": [
        {
          "name": "stdout",
          "output_type": "stream",
          "text": [
            "   id  month  mwตามสัญญา      PF100\n",
            "0  24      1         7.5  5580000.0\n",
            "1  24      2         7.5  5040000.0\n",
            "2  24      3         7.5  5580000.0\n",
            "3  24      4         7.5  5400000.0\n",
            "4  24      5         7.5  5580000.0\n"
          ]
        }
      ],
      "source": [
        "days_per_month = {\n",
        "    1: 31, 2: 28, 3: 31, 4: 30,\n",
        "    5: 31, 6: 30, 7: 31, 8: 31,\n",
        "    9: 30, 10: 31, 11: 30, 12: 31\n",
        "}\n",
        "aggregated_df['PF100'] = aggregated_df['month'].map(days_per_month) * aggregated_df['mwตามสัญญา'] * 24000\n",
        "print(aggregated_df[['id', 'month', 'mwตามสัญญา', 'PF100']].head())"
      ]
    },
    {
      "cell_type": "code",
      "execution_count": 8,
      "metadata": {
        "colab": {
          "base_uri": "https://localhost:8080/"
        },
        "id": "ZVPPed0ILGcd",
        "outputId": "6e249230-0bf6-4a86-e810-49f49b59d331"
      },
      "outputs": [
        {
          "name": "stdout",
          "output_type": "stream",
          "text": [
            "   id  month      PF100     AVG_kWH  efficiency\n",
            "0  24      1  5580000.0  5371329.67       96.26\n",
            "1  24      2  5040000.0  4880695.67       96.84\n",
            "2  24      3  5580000.0  5345938.00       95.81\n",
            "3  24      4  5400000.0  5026477.33       93.08\n",
            "4  24      5  5580000.0  5361229.67       96.08\n"
          ]
        }
      ],
      "source": [
        "aggregated_df['AVG_kWH'] = aggregated_df['AVG_kWH'].replace(0, np.nan)\n",
        "aggregated_df['efficiency'] = (aggregated_df['AVG_kWH']/aggregated_df['PF100'] ) * 100\n",
        "aggregated_df['efficiency'] = aggregated_df['efficiency'].fillna(0)\n",
        "aggregated_df['efficiency'] = aggregated_df['efficiency'].round(2)\n",
        "print(aggregated_df[['id', 'month', 'PF100', 'AVG_kWH', 'efficiency']].head())"
      ]
    },
    {
      "cell_type": "code",
      "execution_count": 9,
      "metadata": {
        "id": "nFvM_2ahpgMk"
      },
      "outputs": [],
      "source": [
        "aggregated_df.drop(columns=['kWH','kWH_zero']).to_csv('1.csv', index=False)"
      ]
    }
  ],
  "metadata": {
    "colab": {
      "provenance": []
    },
    "kernelspec": {
      "display_name": "Python 3",
      "name": "python3"
    },
    "language_info": {
      "codemirror_mode": {
        "name": "ipython",
        "version": 3
      },
      "file_extension": ".py",
      "mimetype": "text/x-python",
      "name": "python",
      "nbconvert_exporter": "python",
      "pygments_lexer": "ipython3",
      "version": "3.9.6"
    }
  },
  "nbformat": 4,
  "nbformat_minor": 0
}
