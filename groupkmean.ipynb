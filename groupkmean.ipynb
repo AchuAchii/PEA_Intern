{
  "nbformat": 4,
  "nbformat_minor": 0,
  "metadata": {
    "colab": {
      "provenance": []
    },
    "kernelspec": {
      "name": "python3",
      "display_name": "Python 3"
    },
    "language_info": {
      "name": "python"
    }
  },
  "cells": [
    {
      "cell_type": "markdown",
      "source": [
        "Solar"
      ],
      "metadata": {
        "id": "HX_SsmqVBy3b"
      }
    },
    {
      "cell_type": "code",
      "execution_count": 1,
      "metadata": {
        "colab": {
          "base_uri": "https://localhost:8080/"
        },
        "id": "gmpD-rJv_Yc1",
        "outputId": "fba2f03e-bd87-4fdb-92f9-ee7bdc6f1683"
      },
      "outputs": [
        {
          "output_type": "stream",
          "name": "stdout",
          "text": [
            "✅ บันทึกไฟล์เรียบร้อย: solar_with_clusters_k3.csv\n"
          ]
        }
      ],
      "source": [
        "import pandas as pd\n",
        "from sklearn.cluster import KMeans\n",
        "from sklearn.preprocessing import StandardScaler\n",
        "\n",
        "df = pd.read_csv(\"solar.csv\")\n",
        "features = df[['AVG_EFF', 'CV', 'missing_rate_kWH']].fillna(0)\n",
        "\n",
        "scaler = StandardScaler()\n",
        "scaled = scaler.fit_transform(features)\n",
        "\n",
        "k = 4\n",
        "kmeans = KMeans(n_clusters=k, random_state=42)\n",
        "cluster_labels = kmeans.fit_predict(scaled)\n",
        "\n",
        "df['cluster'] = cluster_labels + 1\n",
        "\n",
        "df.to_csv(\"solar_clusters_k3.csv\", index=False)"
      ]
    },
    {
      "cell_type": "markdown",
      "source": [
        "Trash"
      ],
      "metadata": {
        "id": "MwKNjb3aB0mh"
      }
    },
    {
      "cell_type": "code",
      "source": [
        "import pandas as pd\n",
        "from sklearn.cluster import KMeans\n",
        "from sklearn.preprocessing import StandardScaler\n",
        "\n",
        "df = pd.read_csv(\"trash.csv\")\n",
        "features = df[['AVG_EFF', 'CV', 'missing_rate_kWH']].fillna(0)\n",
        "\n",
        "scaler = StandardScaler()\n",
        "scaled = scaler.fit_transform(features)\n",
        "\n",
        "k = 4\n",
        "kmeans = KMeans(n_clusters=k, random_state=42)\n",
        "cluster_labels = kmeans.fit_predict(scaled)\n",
        "\n",
        "df['cluster'] = cluster_labels + 1\n",
        "\n",
        "df.to_csv(\"trash_cluster_k.csv\", index=False)"
      ],
      "metadata": {
        "id": "TaqXjcHAB3MP"
      },
      "execution_count": null,
      "outputs": []
    },
    {
      "cell_type": "markdown",
      "source": [
        "Biomass"
      ],
      "metadata": {
        "id": "I2nIq5EtCYMF"
      }
    },
    {
      "cell_type": "code",
      "source": [
        "import pandas as pd\n",
        "from sklearn.cluster import KMeans\n",
        "from sklearn.preprocessing import StandardScaler\n",
        "\n",
        "df = pd.read_csv(\"biomass.csv\")\n",
        "features = df[['AVG_EFF', 'CV', 'missing_rate_kWH']].fillna(0)\n",
        "\n",
        "scaler = StandardScaler()\n",
        "scaled = scaler.fit_transform(features)\n",
        "\n",
        "k = 4\n",
        "kmeans = KMeans(n_clusters=k, random_state=42)\n",
        "cluster_labels = kmeans.fit_predict(scaled)\n",
        "\n",
        "df['cluster'] = cluster_labels + 1\n",
        "\n",
        "df.to_csv(\"biomass.csv\", index=False)"
      ],
      "metadata": {
        "id": "a3uFNb2CCZar"
      },
      "execution_count": null,
      "outputs": []
    },
    {
      "cell_type": "markdown",
      "source": [
        "Biological"
      ],
      "metadata": {
        "id": "LpQCs2bUCawc"
      }
    },
    {
      "cell_type": "code",
      "source": [
        "import pandas as pd\n",
        "from sklearn.cluster import KMeans\n",
        "from sklearn.preprocessing import StandardScaler\n",
        "\n",
        "df = pd.read_csv(\"biological.csv\")\n",
        "features = df[['AVG_EFF', 'CV', 'missing_rate_kWH']].fillna(0)\n",
        "\n",
        "scaler = StandardScaler()\n",
        "scaled = scaler.fit_transform(features)\n",
        "\n",
        "k = 4\n",
        "kmeans = KMeans(n_clusters=k, random_state=42)\n",
        "cluster_labels = kmeans.fit_predict(scaled)\n",
        "\n",
        "df['cluster'] = cluster_labels + 1\n",
        "\n",
        "df.to_csv(\"biological.csv\", index=False)"
      ],
      "metadata": {
        "id": "TvIijW2rCcg6"
      },
      "execution_count": null,
      "outputs": []
    }
  ]
}